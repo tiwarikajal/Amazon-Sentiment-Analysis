{
 "cells": [
  {
   "cell_type": "markdown",
   "metadata": {},
   "source": [
    "**DATA PRE-PROCESSING**"
   ]
  },
  {
   "cell_type": "code",
   "execution_count": 1,
   "metadata": {},
   "outputs": [],
   "source": [
    "from __future__ import print_function\n",
    "import matplotlib.pyplot as plt\n",
    "from sklearn.model_selection import train_test_split\n",
    "from sklearn.metrics import accuracy_score\n",
    "import numpy as np\n",
    "import os\n",
    "from nltk.tokenize import word_tokenize\n",
    "from six.moves import cPickle as pickle\n",
    "import pandas as pd\n",
    "import seaborn as sns\n",
    "import string\n",
    "from time import time\n",
    "import nltk\n",
    "import xml.etree.ElementTree as ET\n",
    "%matplotlib inline\n",
    "#import xmltodict\n"
   ]
  },
  {
   "cell_type": "code",
   "execution_count": 2,
   "metadata": {},
   "outputs": [],
   "source": [
    "import warnings\n",
    "warnings.filterwarnings('ignore')"
   ]
  },
  {
   "cell_type": "code",
   "execution_count": 3,
   "metadata": {},
   "outputs": [],
   "source": [
    "#Stopwords.txt is downloaded from URL: https://algs4.cs.princeton.edu/35applications/stopwords.txt\n",
    "stopwords = set(w.rstrip() for w in open(r'C:\\UMASS\\589\\homework\\extra credit\\stopwords.txt'))\n"
   ]
  },
  {
   "cell_type": "code",
   "execution_count": 4,
   "metadata": {
    "scrolled": true
   },
   "outputs": [],
   "source": [
    "#looping over folder\n",
    "all_reviews=[]\n",
    "for root, dirs, filenames in os.walk('sorted_data/apparel'): \n",
    "    #print(filenames)\n",
    "    for f in filenames:\n",
    "        if f == \"all.review\":\n",
    "            with open(os.path.join(root, f), 'r',encoding=\"Latin1\") as file: \n",
    "                #print(file)\n",
    "                reviews = file.readlines()\n",
    "            #print(reviews)\n",
    "                all_reviews.extend(reviews)\n",
    "\n",
    "#all_reviews[0:100]"
   ]
  },
  {
   "cell_type": "code",
   "execution_count": 5,
   "metadata": {},
   "outputs": [
    {
     "name": "stdout",
     "output_type": "stream",
     "text": [
      "<review>\n",
      "\n"
     ]
    }
   ],
   "source": [
    "# Converting array of lines in xml to dictionary where each element is array of rating and review\n",
    "def Convert2Dict(review_string):\n",
    "    count = 0\n",
    "    ElementArray = []\n",
    "    Dictionary = {}\n",
    "    for i in range(len(review_string)):\n",
    "        if review_string[i] != '</review>\\n':      \n",
    "            if review_string[i] == '<rating>\\n':\n",
    "                ElementArray.append('rating:'+review_string[i+1])\n",
    "            if review_string[i] == '<review_text>\\n':\n",
    "                ElementArray.append('review_text:'+review_string[i+1])\n",
    "        elif review_string[i] == '</review>\\n':\n",
    "            count = count + 1\n",
    "            r = 'review'+ str(count) \n",
    "            Dictionary[r] = ElementArray\n",
    "            ElementArray = []\n",
    "    return Dictionary\n",
    "len(all_reviews)\n",
    "print(all_reviews[0])"
   ]
  },
  {
   "cell_type": "code",
   "execution_count": 6,
   "metadata": {},
   "outputs": [
    {
     "data": {
      "text/plain": [
       "9252"
      ]
     },
     "execution_count": 6,
     "metadata": {},
     "output_type": "execute_result"
    }
   ],
   "source": [
    "#Printing a sample output from function\n",
    "All_revDict=Convert2Dict(all_reviews)\n",
    "len(All_revDict)"
   ]
  },
  {
   "cell_type": "code",
   "execution_count": 7,
   "metadata": {},
   "outputs": [],
   "source": [
    "def Convert2DF(Dict):\n",
    " \n",
    "    df = pd.DataFrame(columns=['rating','review_text'])\n",
    "    for k,v in Dict.items():\n",
    "        df.loc[k] = [v[0].split(\":\")[1].split(\"\\n\")[0], v[1].split(\":\")[1].split(\"\\n\")[0]]\n",
    "    return df"
   ]
  },
  {
   "cell_type": "code",
   "execution_count": 8,
   "metadata": {
    "scrolled": true
   },
   "outputs": [
    {
     "name": "stdout",
     "output_type": "stream",
     "text": [
      "       rating review_text\n",
      "count    9252        9252\n",
      "unique      4        8896\n",
      "top       5.0            \n",
      "freq     5983          25\n"
     ]
    }
   ],
   "source": [
    "All_reviewsDF=Convert2DF(All_revDict)\n",
    "print(All_reviewsDF.describe())"
   ]
  },
  {
   "cell_type": "code",
   "execution_count": 9,
   "metadata": {},
   "outputs": [],
   "source": [
    "#Adding Label Column and removing data with rating 3\n",
    "All_reviewsDF['label'] = [0 if float(x)<3  else 1 for x in All_reviewsDF['rating']] \n",
    "All_reviewsDF= All_reviewsDF[pd.to_numeric(All_reviewsDF.rating) != 3.0]\n",
    "#All_reviewsDF.drop(All_reviewsDF[All_reviewsDF['rating']=3],inplace=True)\n"
   ]
  },
  {
   "cell_type": "code",
   "execution_count": 10,
   "metadata": {},
   "outputs": [],
   "source": [
    "def Remove_punct(All_reviewsDF):\n",
    "#Removing punctuations\n",
    "    for i in range(len(All_reviewsDF)):\n",
    "        All_reviewsDF.iloc[i,1]=All_reviewsDF.iloc[i,1].translate(str.maketrans('', '', string.punctuation))\n",
    "    return All_reviewsDF\n"
   ]
  },
  {
   "cell_type": "code",
   "execution_count": 11,
   "metadata": {},
   "outputs": [
    {
     "data": {
      "text/html": [
       "<div>\n",
       "<style scoped>\n",
       "    .dataframe tbody tr th:only-of-type {\n",
       "        vertical-align: middle;\n",
       "    }\n",
       "\n",
       "    .dataframe tbody tr th {\n",
       "        vertical-align: top;\n",
       "    }\n",
       "\n",
       "    .dataframe thead th {\n",
       "        text-align: right;\n",
       "    }\n",
       "</style>\n",
       "<table border=\"1\" class=\"dataframe\">\n",
       "  <thead>\n",
       "    <tr style=\"text-align: right;\">\n",
       "      <th></th>\n",
       "      <th>rating</th>\n",
       "      <th>review_text</th>\n",
       "      <th>label</th>\n",
       "    </tr>\n",
       "  </thead>\n",
       "  <tbody>\n",
       "    <tr>\n",
       "      <th>review1</th>\n",
       "      <td>1.0</td>\n",
       "      <td>I want to start by saying Fred Flare shipped t...</td>\n",
       "      <td>0</td>\n",
       "    </tr>\n",
       "    <tr>\n",
       "      <th>review2</th>\n",
       "      <td>1.0</td>\n",
       "      <td>I have to say that I was disappointed when I o...</td>\n",
       "      <td>0</td>\n",
       "    </tr>\n",
       "    <tr>\n",
       "      <th>review3</th>\n",
       "      <td>2.0</td>\n",
       "      <td>I am sorry but I did not like it nor will I we...</td>\n",
       "      <td>0</td>\n",
       "    </tr>\n",
       "    <tr>\n",
       "      <th>review4</th>\n",
       "      <td>1.0</td>\n",
       "      <td>A red star  I bet this wont sell well in easte...</td>\n",
       "      <td>0</td>\n",
       "    </tr>\n",
       "    <tr>\n",
       "      <th>review5</th>\n",
       "      <td>1.0</td>\n",
       "      <td>Perhaps it is my own fault for not reading mor...</td>\n",
       "      <td>0</td>\n",
       "    </tr>\n",
       "    <tr>\n",
       "      <th>...</th>\n",
       "      <td>...</td>\n",
       "      <td>...</td>\n",
       "      <td>...</td>\n",
       "    </tr>\n",
       "    <tr>\n",
       "      <th>review9248</th>\n",
       "      <td>5.0</td>\n",
       "      <td>These runners are great</td>\n",
       "      <td>1</td>\n",
       "    </tr>\n",
       "    <tr>\n",
       "      <th>review9249</th>\n",
       "      <td>5.0</td>\n",
       "      <td>Cute little accessory for the price  My slave ...</td>\n",
       "      <td>1</td>\n",
       "    </tr>\n",
       "    <tr>\n",
       "      <th>review9250</th>\n",
       "      <td>5.0</td>\n",
       "      <td>I bought this hat for my little boy and he lov...</td>\n",
       "      <td>1</td>\n",
       "    </tr>\n",
       "    <tr>\n",
       "      <th>review9251</th>\n",
       "      <td>5.0</td>\n",
       "      <td>This was a great fall hat for our newborn It c...</td>\n",
       "      <td>1</td>\n",
       "    </tr>\n",
       "    <tr>\n",
       "      <th>review9252</th>\n",
       "      <td>5.0</td>\n",
       "      <td>this hat is supercute and hip  good quality an...</td>\n",
       "      <td>1</td>\n",
       "    </tr>\n",
       "  </tbody>\n",
       "</table>\n",
       "<p>9252 rows × 3 columns</p>\n",
       "</div>"
      ],
      "text/plain": [
       "           rating                                        review_text  label\n",
       "review1       1.0  I want to start by saying Fred Flare shipped t...      0\n",
       "review2       1.0  I have to say that I was disappointed when I o...      0\n",
       "review3       2.0  I am sorry but I did not like it nor will I we...      0\n",
       "review4       1.0  A red star  I bet this wont sell well in easte...      0\n",
       "review5       1.0  Perhaps it is my own fault for not reading mor...      0\n",
       "...           ...                                                ...    ...\n",
       "review9248    5.0                            These runners are great      1\n",
       "review9249    5.0  Cute little accessory for the price  My slave ...      1\n",
       "review9250    5.0  I bought this hat for my little boy and he lov...      1\n",
       "review9251    5.0  This was a great fall hat for our newborn It c...      1\n",
       "review9252    5.0  this hat is supercute and hip  good quality an...      1\n",
       "\n",
       "[9252 rows x 3 columns]"
      ]
     },
     "execution_count": 11,
     "metadata": {},
     "output_type": "execute_result"
    }
   ],
   "source": [
    "Remove_punct(All_reviewsDF)"
   ]
  },
  {
   "cell_type": "code",
   "execution_count": 12,
   "metadata": {},
   "outputs": [
    {
     "data": {
      "text/plain": [
       "<matplotlib.axes._subplots.AxesSubplot at 0x1f8fea42e48>"
      ]
     },
     "execution_count": 12,
     "metadata": {},
     "output_type": "execute_result"
    },
    {
     "data": {
      "image/png": "[encoded data removed]",
      "text/plain": [
       "<Figure size 432x288 with 1 Axes>"
      ]
     },
     "metadata": {},
     "output_type": "display_data"
    }
   ],
   "source": [
    "All_reviewsDF.rating.value_counts().plot(kind='pie', autopct='%1.0f%%', colors=[\"green\", \"yellow\", \"blue\",\"red\"])"
   ]
  },
  {
   "cell_type": "code",
   "execution_count": 13,
   "metadata": {
    "scrolled": true
   },
   "outputs": [
    {
     "name": "stderr",
     "output_type": "stream",
     "text": [
      "[nltk_data] Downloading package punkt to\n",
      "[nltk_data]     C:\\Users\\kajal\\AppData\\Roaming\\nltk_data...\n",
      "[nltk_data]   Package punkt is already up-to-date!\n"
     ]
    },
    {
     "data": {
      "text/plain": [
       "True"
      ]
     },
     "execution_count": 13,
     "metadata": {},
     "output_type": "execute_result"
    }
   ],
   "source": [
    "nltk.download('punkt')"
   ]
  },
  {
   "cell_type": "code",
   "execution_count": 14,
   "metadata": {
    "scrolled": false
   },
   "outputs": [
    {
     "name": "stdout",
     "output_type": "stream",
     "text": [
      "           rating                                        review_text  label\n",
      "review2512    5.0  I ordered these as a gift for my son  The qual...      1\n",
      "review1106    5.0       These shoes keep my feet cozy all the way...      1\n",
      "review3473    1.0  the hat is fine but size is not correct the ha...      0\n",
      "review6960    5.0  theyre great  i love them i was afraid they mi...      1\n",
      "review5629    4.0  The quality is great but the xlarge is too big...      1\n",
      "           rating                                        review_text  label\n",
      "review8775    4.0                 The quality of the product is good      1\n",
      "review1407    5.0  These shoes are so comfortable and cute Ive go...      1\n",
      "review5929    5.0  Everyone has different eyes but these fit me w...      1\n",
      "review8534    4.0  I bought a black and a brown one and am pretty...      1\n",
      "review1333    5.0  As the weather has cooled for fall and winter ...      1\n",
      "           rating                                        review_text  label\n",
      "review6940    5.0  This is one of the best quality aprons I have ...      1\n",
      "review341     1.0  While this product appears very nice in pictur...      0\n",
      "review8253    4.0  outstanding product but peculiar pricing on so...      1\n",
      "review2583    4.0  As far as socks go these were pretty good The ...      1\n",
      "review4923    5.0  These are NOT the CheapO white socks They are ...      1\n"
     ]
    }
   ],
   "source": [
    "trainDF,testDF= train_test_split(All_reviewsDF, train_size=0.8,test_size=0.2,random_state=1)\n",
    "\n",
    "\n",
    "trainDF,valDF= train_test_split(trainDF,train_size=0.9,  test_size=0.1, random_state=1)\n",
    "print(trainDF.head())\n",
    "print(testDF.head())\n",
    "print(valDF.head())"
   ]
  },
  {
   "cell_type": "code",
   "execution_count": 15,
   "metadata": {
    "scrolled": true
   },
   "outputs": [
    {
     "data": {
      "text/plain": [
       "['I',\n",
       " 'want',\n",
       " 'to',\n",
       " 'start',\n",
       " 'by',\n",
       " 'saying',\n",
       " 'Fred',\n",
       " 'Flare',\n",
       " 'shipped',\n",
       " 'this',\n",
       " 'product',\n",
       " 'very',\n",
       " 'fast',\n",
       " 'And',\n",
       " 'the',\n",
       " 'transaction',\n",
       " 'itself',\n",
       " 'was',\n",
       " 'very',\n",
       " 'smooth',\n",
       " 'I',\n",
       " 'do',\n",
       " 'however',\n",
       " 'have',\n",
       " 'extreme',\n",
       " 'problems',\n",
       " 'with',\n",
       " 'the',\n",
       " 'product',\n",
       " 'itself',\n",
       " 'The',\n",
       " 'product',\n",
       " 'is',\n",
       " 'not',\n",
       " 'leather',\n",
       " 'its',\n",
       " 'nylon',\n",
       " 'and',\n",
       " 'it',\n",
       " 'sort',\n",
       " 'of',\n",
       " 'looks',\n",
       " 'cheap',\n",
       " 'The',\n",
       " 'inside',\n",
       " 'material',\n",
       " 'is',\n",
       " 'sued',\n",
       " 'but',\n",
       " 'thats',\n",
       " 'only',\n",
       " 'the',\n",
       " 'lining',\n",
       " 'for',\n",
       " 'the',\n",
       " 'base',\n",
       " 'of',\n",
       " 'the',\n",
       " 'wallet',\n",
       " 'Also',\n",
       " 'The',\n",
       " 'wallet',\n",
       " 'part',\n",
       " 'is',\n",
       " 'very',\n",
       " 'hard',\n",
       " 'to',\n",
       " 'use',\n",
       " 'You',\n",
       " 'cant',\n",
       " 'really',\n",
       " 'put',\n",
       " 'too',\n",
       " 'much',\n",
       " 'in',\n",
       " 'the',\n",
       " 'wallet',\n",
       " 'The',\n",
       " 'credit',\n",
       " 'card',\n",
       " 'slots',\n",
       " 'are',\n",
       " 'a',\n",
       " 'little',\n",
       " 'too',\n",
       " 'snug',\n",
       " 'and',\n",
       " 'there',\n",
       " 'is',\n",
       " 'no',\n",
       " 'place',\n",
       " 'for',\n",
       " 'my',\n",
       " 'ID',\n",
       " 'The',\n",
       " 'wallet',\n",
       " 'included',\n",
       " 'a',\n",
       " 'small',\n",
       " 'note']"
      ]
     },
     "execution_count": 15,
     "metadata": {},
     "output_type": "execute_result"
    }
   ],
   "source": [
    "#Tokenizing the reviews and taking in array\n",
    "def Tokenize(All_reviewsDF):\n",
    "    Word_list=[]\n",
    "    for i in range(len(All_reviewsDF)): \n",
    "    \n",
    "        Word_list.extend(word_tokenize(All_reviewsDF.iloc[i,1]))\n",
    "    \n",
    "    return Word_list\n",
    "\n",
    "Word_list=Tokenize(All_reviewsDF)\n",
    "Word_list[0:100]"
   ]
  },
  {
   "cell_type": "code",
   "execution_count": 16,
   "metadata": {},
   "outputs": [
    {
     "name": "stdout",
     "output_type": "stream",
     "text": [
      "['I', 'start', 'Fred', 'Flare', 'shipped', 'product', 'fast', 'And', 'transaction', 'smooth', 'I', 'extreme', 'problems', 'product', 'The', 'product', 'leather', 'nylon', 'sort', 'cheap', 'The', 'inside', 'material', 'sued', 'lining', 'base', 'wallet', 'Also', 'The', 'wallet', 'part', 'hard', 'You', 'put', 'wallet', 'The', 'credit', 'card', 'slots', 'a', 'snug', 'place', 'ID', 'The', 'wallet', 'included', 'a', 'small', 'note', 'book', 'doesnt', 'fit', 'wallet', 'I', 'excited', 'product', 'I', 'feel', 'duped', 'The', 'pictures', 'made', 'wallet', 'higher', 'quality', 'user', 'friendly', 'I', 'recommend', 'product', 'I', 'I', 'disappointed', 'I', 'opened', 'package', 'iPod', 'wallet', 'Its', 'cute', '60ish', 'cute', 'First', 'leather', 'nylon', 'The', 'lining', 'suede', 'photos', 'product', 'listing', 'misleading', 'Im', 'keeping', 'hassle', 'shipping', 'back', 'isnt', 'worth', 'It', 'job', 'wasnt', 'I', 'expecting', 'I', 'feel', 'ripped', 'I', 'I', 'I', 'wear', 'big', 'funny', 'I', 'I', 'A', 'red', 'star', 'I', 'bet', 'wont', 'sell', 'eastern', 'Europe', 'Perhaps', 'fault', 'reading', 'closely', 'failing', 'question', 'ambiguous', 'product', 'description', 'The', 'fact', 'I', 'thought', 'I', 'receiving', '84', 'plastic', 'stays', '3x28', '28', '3', 'sizes', 'At', '800', 'a', 'reasonable', 'deal', 'plastic', 'collar', 'stays', 'What', 'I', 'I', 'confess', 'product', 'description', 'interpreted', 'a', 'total', '28', 'stays', 'assorted', 'sizes', 'When', 'add', '400', 'I', 'charged', 'shipping', 'actual', 'US', 'Postal', 'Service', 'postage', 'package', '184', 'a', 'poor', 'deal', 'compared', 'options', 'About', '43', 'cents', 'plastic', 'collar', 'stay', 'A', 'bad', 'choice', 'THe', 'pants', 'I', 'ordered', 'size', 'small']\n"
     ]
    }
   ],
   "source": [
    "#Filtering the array and eliminating stopwords\n",
    "def filter_words(Word_list):\n",
    "    #print(stopwords)\n",
    "    filterwords=[]\n",
    "    for word in Word_list:\n",
    "        if word not in stopwords:\n",
    "            filterwords.append(word)\n",
    "    return filterwords\n",
    "\n",
    "filterwords=filter_words(Word_list)\n",
    "print(filterwords[0:200])"
   ]
  },
  {
   "cell_type": "code",
   "execution_count": 17,
   "metadata": {},
   "outputs": [
    {
     "name": "stderr",
     "output_type": "stream",
     "text": [
      "[nltk_data] Downloading package wordnet to\n",
      "[nltk_data]     C:\\Users\\kajal\\AppData\\Roaming\\nltk_data...\n",
      "[nltk_data]   Package wordnet is already up-to-date!\n"
     ]
    },
    {
     "data": {
      "text/plain": [
       "True"
      ]
     },
     "execution_count": 17,
     "metadata": {},
     "output_type": "execute_result"
    }
   ],
   "source": [
    "nltk.download('wordnet')"
   ]
  },
  {
   "cell_type": "code",
   "execution_count": 18,
   "metadata": {
    "scrolled": true
   },
   "outputs": [],
   "source": [
    "#Lemmatizing and stemming (bringing words to their root format) using NLTK\n",
    "from nltk.stem import WordNetLemmatizer\n",
    "\n",
    "def lemm_words(filteredwords):\n",
    "    Lemmatized_words=[]\n",
    "    lm=WordNetLemmatizer()\n",
    "\n",
    "\n",
    "    for word in filterwords:\n",
    "        word=word.lower()\n",
    "\n",
    "        Lemmatized_words.append (lm.lemmatize(word))\n",
    "    return Lemmatized_words\n",
    "Lemmatized_words=lemm_words(filterwords)"
   ]
  },
  {
   "cell_type": "code",
   "execution_count": 19,
   "metadata": {
    "scrolled": true
   },
   "outputs": [
    {
     "data": {
      "text/plain": [
       "[('i', 16482),\n",
       " ('a', 11005),\n",
       " ('the', 3255),\n",
       " ('shoe', 2862),\n",
       " ('great', 2529),\n",
       " ('it', 1986),\n",
       " ('comfortable', 1953),\n",
       " ('size', 1794),\n",
       " ('fit', 1775),\n",
       " ('they', 1746)]"
      ]
     },
     "execution_count": 19,
     "metadata": {},
     "output_type": "execute_result"
    }
   ],
   "source": [
    "#Converting in Bag of Words representation and sorting them by count\n",
    "from collections import OrderedDict\n",
    "def Convert2BOW(Lemmatized_words):\n",
    "    BOW={}\n",
    "    for w in Lemmatized_words:\n",
    "        if w not in BOW:\n",
    "            BOW[w]=1\n",
    "        else:\n",
    "            BOW[w]=BOW[w]+1\n",
    "    SortedBOW = OrderedDict(sorted(BOW.items(), key=lambda x: x[1],reverse=True))\n",
    "    SortedList=list(SortedBOW.items())\n",
    "    return SortedList\n",
    "SortedList=Convert2BOW(Lemmatized_words)\n",
    "SortedList[0:10]"
   ]
  },
  {
   "cell_type": "code",
   "execution_count": 20,
   "metadata": {},
   "outputs": [
    {
     "name": "stdout",
     "output_type": "stream",
     "text": [
      "['i', 'a', 'the', 'shoe', 'great', 'it', 'comfortable', 'size', 'fit', 'they', 'wear', 'love', 'this', 'good', 'bought'] [16482, 11005, 3255, 2862, 2529, 1986, 1953, 1794, 1775, 1746, 1730, 1598, 1586, 1584, 1351]\n"
     ]
    }
   ],
   "source": [
    "#Finding the most common 15 words\n",
    "\n",
    "count=0\n",
    "x=[]\n",
    "y=[]\n",
    "for i in SortedList:\n",
    "    k,v=i\n",
    "    if(count<15):\n",
    "        x.append(k)\n",
    "        y.append(v)\n",
    "    else:\n",
    "        break\n",
    "    count+=1\n",
    "print(x,y)\n",
    "    "
   ]
  },
  {
   "cell_type": "code",
   "execution_count": 21,
   "metadata": {
    "scrolled": true
   },
   "outputs": [
    {
     "data": {
      "image/png": "[encoded data removed]",
      "text/plain": [
       "<Figure size 432x288 with 1 Axes>"
      ]
     },
     "metadata": {
      "needs_background": "light"
     },
     "output_type": "display_data"
    }
   ],
   "source": [
    "#Plotting the most common 15 words\n",
    "fig, ax = plt.subplots()\n",
    "ax.bar(x, y,)\n",
    "\n",
    "fig.autofmt_xdate()\n",
    "plt.show()"
   ]
  },
  {
   "cell_type": "code",
   "execution_count": 24,
   "metadata": {
    "scrolled": true
   },
   "outputs": [
    {
     "name": "stdout",
     "output_type": "stream",
     "text": [
      "shoe\n"
     ]
    }
   ],
   "source": [
    "def Remove_shortwords(SortedList):\n",
    "    for w in SortedList:\n",
    "        k,v=w\n",
    "        if(len(k)<4):\n",
    "        #print(w)\n",
    "            SortedList.remove(w)\n",
    "    return SortedList\n",
    "#print(SortedList)\n",
    "#print(SortedList)\n",
    "SortedList=Remove_shortwords(SortedList)\n",
    "print(SortedList[0][0])\n"
   ]
  },
  {
   "cell_type": "code",
   "execution_count": 25,
   "metadata": {
    "scrolled": false
   },
   "outputs": [
    {
     "data": {
      "image/png": "[encoded data removed]",
      "text/plain": [
       "<Figure size 432x288 with 1 Axes>"
      ]
     },
     "metadata": {
      "needs_background": "light"
     },
     "output_type": "display_data"
    }
   ],
   "source": [
    "x=[]\n",
    "y=[]\n",
    "count=0\n",
    "for i in SortedList:\n",
    "    k,v=i\n",
    "    #print(k,v)\n",
    "    if(count<15):\n",
    "        x.append(k)\n",
    "        y.append(v)\n",
    "    else:\n",
    "        break\n",
    "    count+=1\n",
    "#print(x,y)\n",
    "#Plotting the most common 15 words after deleting common words of length less than 3\n",
    "fig, ax = plt.subplots()\n",
    "ax.bar(x, y,)\n",
    "\n",
    "fig.autofmt_xdate()\n",
    "plt.show() "
   ]
  },
  {
   "cell_type": "code",
   "execution_count": 31,
   "metadata": {},
   "outputs": [],
   "source": [
    "with open('Vocab_apparel.review', 'w', encoding='utf-8') as file:\n",
    "    for words in Lemmatized_words:\n",
    "        file.write(words)\n",
    "        file.write(\"\\n\")"
   ]
  },
  {
   "cell_type": "code",
   "execution_count": 32,
   "metadata": {},
   "outputs": [],
   "source": [
    "with open('SortedBOW_apparel.review', 'w',encoding='utf-8') as file:\n",
    "    for words in SortedList:\n",
    "        file.write(str(words))\n",
    "        file.write(\"\\n\")"
   ]
  },
  {
   "cell_type": "code",
   "execution_count": 33,
   "metadata": {},
   "outputs": [
    {
     "name": "stdout",
     "output_type": "stream",
     "text": [
      "Length of Vocabulary is 11677\n"
     ]
    }
   ],
   "source": [
    "import ast\n",
    "BOW=[]\n",
    "\n",
    "with open('SortedBOW.review','r') as f:\n",
    "    BOW=f.readlines()\n",
    "    \n",
    "    for i in range(len(BOW)):\n",
    "        BOW[i]=BOW[i].strip('\\n')\n",
    "        BOW[i]=(ast.literal_eval(BOW[i]))\n",
    "\n",
    "    \n",
    "print(\"Length of Vocabulary is\",len(BOW))\n",
    "\n"
   ]
  },
  {
   "cell_type": "code",
   "execution_count": 34,
   "metadata": {},
   "outputs": [],
   "source": [
    "##If using BOW feature vector!!!\n",
    "\n",
    "##Feature vector is a vocabulary length sparse vector which contains count if \n",
    "#the word in review is among the vocabulary word.\n",
    "\n",
    "def find_features(review):  \n",
    "    feature=[]\n",
    "    review_words= word_tokenize(review)\n",
    "    for i in range(len(BOW)):\n",
    "        #print(BOW[i][0])\n",
    "        if  BOW[i][0] in review_words:\n",
    "                feature.append(BOW[i][1])\n",
    "        else:\n",
    "                feature.append(0)\n",
    "\n",
    "    return feature\n"
   ]
  },
  {
   "cell_type": "markdown",
   "metadata": {},
   "source": [
    "\n",
    " <font size=\"4\" color='blue'> \n",
    "\n",
    " **BUILD THE MODEL**\n",
    "</font>"
   ]
  },
  {
   "cell_type": "code",
   "execution_count": 125,
   "metadata": {},
   "outputs": [],
   "source": [
    "training_features=[]\n",
    "testing_features=[]\n",
    "val_features=[]\n",
    "all_features=[]\n",
    "\n",
    "for i in range(len(All_reviewsDF)):\n",
    "    review=(All_reviewsDF.iloc[i]['review_text']+'\\n') \n",
    "    review_token=word_tokenize(review)\n",
    "    all_features.append(review_token)\n",
    "\n",
    "\n",
    "for i in range(len(trainDF)):\n",
    "    review=(trainDF.iloc[i]['review_text']+'\\n') \n",
    "    review_token=word_tokenize(review)\n",
    "    training_features.append(review_token)\n",
    "#print(len(training_features))\n",
    "\n",
    "for i in range(len(testDF)):\n",
    "    review=(testDF.iloc[i]['review_text']+'\\n') \n",
    "    test_token=word_tokenize(review)\n",
    "    testing_features.append(test_token)\n",
    "\n",
    "for i in range(len(valDF)):\n",
    "    review=(valDF.iloc[i]['review_text']+'\\n') \n",
    "    val_token=word_tokenize(review)\n",
    "    val_features.append(val_token)\n",
    "    \n",
    "   \n",
    "           \n",
    "#print((all_features[0]))\n",
    "y_train=np.array(trainDF['label'])\n",
    "y_test=np.array(testDF['label'])\n",
    "y_val=np.array(valDF['label'])\n",
    "\n",
    "\n"
   ]
  },
  {
   "cell_type": "markdown",
   "metadata": {},
   "source": [
    "**Using Word2Vec Embeddings**"
   ]
  },
  {
   "cell_type": "code",
   "execution_count": 126,
   "metadata": {},
   "outputs": [
    {
     "data": {
      "text/plain": [
       "(5831132, 8426860)"
      ]
     },
     "execution_count": 126,
     "metadata": {},
     "output_type": "execute_result"
    }
   ],
   "source": [
    "import gensim \n",
    "import logging\n",
    "embedding_model = gensim.models.Word2Vec ()\n",
    "embedding_model.build_vocab(all_features)\n",
    "embedding_model.train(all_features, total_examples=len(training_features), epochs=20)\n"
   ]
  },
  {
   "cell_type": "code",
   "execution_count": 127,
   "metadata": {
    "scrolled": true
   },
   "outputs": [],
   "source": [
    "## Creating word embeddings for all the reviews using Word2Vec model we trained. \n",
    "\n",
    "embedding_train=[]\n",
    "for i in range(len(training_features)):\n",
    "    sentence_embed=np.zeros(100)\n",
    "    for j in range(len(training_features[i])):  \n",
    "        try:\n",
    "            sentence_embed+=(embedding_model[training_features[i][j]])\n",
    "            \n",
    "            \n",
    "        except KeyError:\n",
    "            sentence_embed+=np.zeros(100)\n",
    "    #sentence_embed/= len(training_features[i])    \n",
    "    #print(len(sentence_embed))\n",
    "    #break\n",
    "    embedding_train.append(sentence_embed)\n",
    "\n",
    "\n",
    "embedding_test=[]\n",
    "for i in range(len(testing_features)):\n",
    "    sentence_embed=np.zeros(100)\n",
    "    #print(i,len(training_features[i]))\n",
    "    for j in range(len(testing_features[i])):  \n",
    "        try:\n",
    "            sentence_embed+=(embedding_model[testing_features[i][j]])\n",
    "            \n",
    "            \n",
    "        except KeyError:\n",
    "            sentence_embed+=np.zeros(100)\n",
    "\n",
    "    embedding_test.append(sentence_embed)\n",
    "\n",
    "    \n",
    "embedding_val=[]\n",
    "for i in range(len(val_features)):\n",
    "    sentence_embed=np.zeros(100)\n",
    "    #print(i,len(training_features[i]))\n",
    "    for j in range(len(val_features[i])):  \n",
    "        try:\n",
    "            sentence_embed+=(embedding_model[val_features[i][j]])\n",
    "            \n",
    "            \n",
    "        except KeyError:\n",
    "            sentence_embed+=np.zeros(100)\n",
    "\n",
    "    embedding_val.append(sentence_embed)"
   ]
  },
  {
   "cell_type": "code",
   "execution_count": 128,
   "metadata": {},
   "outputs": [
    {
     "name": "stdout",
     "output_type": "stream",
     "text": [
      "[-7.03123409e+00 -4.41942611e+00  1.34838349e+01 -5.83441714e+00\n",
      " -7.27071223e+00 -5.12801354e+01 -9.31370313e+00 -3.24810376e+00\n",
      " -1.34370274e+01 -8.37341866e+00 -9.10136793e+00 -2.29665311e-01\n",
      " -9.52931473e+00  1.83855174e+01 -2.35263283e+01  1.01444464e+01\n",
      "  2.46193457e+01  2.54854954e+01  1.56705177e+01 -2.45818441e+01\n",
      "  3.58553104e+01  6.70244496e-01  1.45619295e+00 -9.70892375e+00\n",
      "  9.68273331e+00 -6.33434925e+00 -1.07106521e+01  1.60548059e+01\n",
      "  2.67337197e+01 -2.96820518e+01  1.45259592e+01  5.01710861e+00\n",
      " -1.07833942e+01  1.14713159e+00  1.93962539e+01 -1.40788514e+00\n",
      " -1.10738151e+01 -2.80820919e+01  1.77218156e+01  7.40230314e+00\n",
      "  1.18757510e+01  1.37691348e+01 -6.80988443e+00  1.46450514e+01\n",
      "  2.98387556e+00  5.81155233e+00  8.16423038e-01  8.96045591e+00\n",
      "  2.27448840e+01 -1.49567038e+00  3.27194335e+00  9.31346549e+00\n",
      " -1.79731291e+01  5.25980120e+00 -6.81019067e+00  1.11028453e+01\n",
      " -1.42616080e+01  9.54133222e+00 -2.38791481e-02  2.22169612e+01\n",
      " -1.69526105e+01 -4.00475884e+00  2.16989668e+01  2.75706708e+00\n",
      "  1.82208870e+01  1.85579386e+01  8.34794995e+00  8.97303823e+00\n",
      " -2.66449965e+01  1.60233616e+01  1.16769866e+01  6.60958670e+00\n",
      "  2.72981415e+00  1.52554138e-01  7.63569844e+00 -9.75517360e+00\n",
      " -2.11722449e+01 -7.59110399e-01 -1.42826670e+00  3.13240884e+01\n",
      " -2.24814037e+01  5.55240648e+00 -3.33289281e+01  1.49419065e+01\n",
      " -4.13076238e+00  2.29772191e+00  1.01579963e+01  1.05049661e+00\n",
      "  8.23338298e+00 -2.38521348e+01 -6.54066913e+00  1.58866786e+01\n",
      "  2.19586508e+01 -2.06958451e+00  2.64764672e+01 -2.53109733e+01\n",
      " -2.19383611e+01 -1.18475233e+01  2.10761156e+00  4.98976987e+00]\n",
      "<class 'list'>\n"
     ]
    }
   ],
   "source": [
    "#Have a look at embeddings generated\n",
    "\n",
    "print((embedding_val[0]))\n",
    "print(type(embedding_val))"
   ]
  },
  {
   "cell_type": "code",
   "execution_count": 132,
   "metadata": {
    "scrolled": true
   },
   "outputs": [
    {
     "name": "stdout",
     "output_type": "stream",
     "text": [
      "Training Accuracy on the Apparel dataset: 85.53\n",
      "Validation Accuracy on the Apparel dataset: 84.75\n",
      "Test Accuracy on the Apparel dataset: 85.52\n"
     ]
    }
   ],
   "source": [
    "#Using SVC\n",
    "from sklearn.svm import LinearSVC\n",
    "from sklearn.metrics import accuracy_score\n",
    "model = LinearSVC()\n",
    "model.fit(embedding_train, y_train)\n",
    "y_pred = model.predict(embedding_test)\n",
    "y_val_pred=model.predict(embedding_val)\n",
    "acc = accuracy_score(y_test, y_pred)\n",
    "val_acc = accuracy_score(y_val, y_val_pred)\n",
    "y_pred_train= model.predict(embedding_train)\n",
    "acc_train = accuracy_score(y_pred_train, y_train)\n",
    "print(\"Training Accuracy on the Apparel dataset: {:.2f}\".format(acc_train*100))\n",
    "print(\"Validation Accuracy on the Apparel dataset: {:.2f}\".format(val_acc*100))\n",
    "print(\"Test Accuracy on the Apparel dataset: {:.2f}\".format(acc*100))"
   ]
  },
  {
   "cell_type": "code",
   "execution_count": 83,
   "metadata": {},
   "outputs": [
    {
     "name": "stdout",
     "output_type": "stream",
     "text": [
      "Train Accuracy on the Apparel dataset: 99.92\n",
      "Validation Accuracy on the Apparel dataset: 80.43\n",
      "Test Accuracy on the Apparel dataset: 81.09\n"
     ]
    }
   ],
   "source": [
    "from sklearn.tree import DecisionTreeClassifier\n",
    "from sklearn.metrics import accuracy_score\n",
    "model = DecisionTreeClassifier()\n",
    "model.fit(embedding_train, y_train)\n",
    "y_pred = model.predict(embedding_test)\n",
    "y_val_pred=model.predict(embedding_val)\n",
    "acc_test = accuracy_score(y_test, y_pred)\n",
    "val_acc = accuracy_score(y_val, y_val_pred)\n",
    "y_pred_train= model.predict(embedding_train)\n",
    "acc_train = accuracy_score(y_pred_train, y_train)\n",
    "print(\"Train Accuracy on the Apparel dataset: {:.2f}\".format(acc_train*100))\n",
    "print(\"Validation Accuracy on the Apparel dataset: {:.2f}\".format(val_acc*100))\n",
    "print(\"Test Accuracy on the Apparel dataset: {:.2f}\".format(acc_test*100))"
   ]
  },
  {
   "cell_type": "code",
   "execution_count": 130,
   "metadata": {},
   "outputs": [
    {
     "name": "stdout",
     "output_type": "stream",
     "text": [
      "Train Accuracy on the Apparel dataset: 88.36\n",
      "Validation Accuracy on the Apparel dataset: 89.07\n",
      "Test Accuracy on the Apparel dataset: 87.52\n"
     ]
    }
   ],
   "source": [
    "#Using logistic regression\n",
    "\n",
    "from sklearn.linear_model import LogisticRegression\n",
    "model = LogisticRegression() \n",
    "model.fit(embedding_train, y_train)\n",
    "y_pred = model.predict(embedding_test)\n",
    "y_val_pred=model.predict(embedding_val)\n",
    "acc = accuracy_score(y_test, y_pred)\n",
    "val_acc = accuracy_score(y_val, y_val_pred)\n",
    "y_pred_train= model.predict(embedding_train)\n",
    "acc_train = accuracy_score(y_pred_train, y_train)\n",
    "print(\"Train Accuracy on the Apparel dataset: {:.2f}\".format(acc_train*100))\n",
    "print(\"Validation Accuracy on the Apparel dataset: {:.2f}\".format(val_acc*100))\n",
    "print(\"Test Accuracy on the Apparel dataset: {:.2f}\".format(acc*100))\n"
   ]
  },
  {
   "cell_type": "code",
   "execution_count": 56,
   "metadata": {},
   "outputs": [],
   "source": [
    "#Using Neural Network\n",
    "import torch\n",
    "from torch import nn\n",
    "from torch import optim\n",
    "from torch.autograd import Variable\n",
    "import torch.nn.functional as F\n",
    "from sklearn.metrics import accuracy_score\n",
    "class NNet(nn.Module):\n",
    "    def __init__(self):\n",
    "        super(NNet, self).__init__()\n",
    "        ## TODO: define the layers of the network\n",
    "        self.fc0 = nn.Linear(100, 70)\n",
    "        \n",
    "        self.fc1= nn.Linear(70, 1)\n",
    "        self.fc2= nn.Sigmoid()\n",
    "        \n",
    "\n",
    "\n",
    "\n",
    "    def forward(self, x):\n",
    "       \n",
    "        x = self.fc0(x)\n",
    "        x=F.tanh(x)\n",
    "       \n",
    "        x=self.fc1(x)\n",
    "        x=F.tanh(x)\n",
    "        x = self.fc2(x)\n",
    "        #print(x)\n",
    "       \n",
    "        return x\n",
    "    def predict(self,x):\n",
    "        x=self.forward(x)\n",
    "        output=np.zeros(len(x))\n",
    "        for i in range(len(x)):\n",
    "            if x[i]>=0.5:\n",
    "                output[i]=1\n",
    "            \n",
    "        return output\n",
    "        \n",
    "        \n",
    "\n",
    "\n",
    "def train(model, embedding_train, epoch,learning_rate,y_train):\n",
    "    model.train()\n",
    "    correct = 0\n",
    "    loss_list=[]\n",
    "    #Data type conversion for model input\n",
    "    embedding_train= np.array(embedding_train)\n",
    "    embedding_train=torch.from_numpy(embedding_train).double()\n",
    "    y_train= np.array(y_train)\n",
    "    y_train=torch.from_numpy(y_train).double()\n",
    "    \n",
    "    model.double()\n",
    "    #Adam optimizer\n",
    "    optimizer = optim.Adam(model.parameters(), lr=learning_rate)\n",
    "    for n in range(epoch):   \n",
    "             \n",
    "            #print(sent_embed)\n",
    "            \n",
    "            optimizer.zero_grad()\n",
    "            model.double()\n",
    "            output = model(embedding_train)\n",
    "            #print(output)\n",
    "            #output=output.detach().numpy()\n",
    "            #print((output.size), (y_train.size))\n",
    "            criterion = nn.L1Loss()\n",
    "            #print(output)\n",
    "            #print(output)\n",
    "            loss = criterion(output, y_train)\n",
    "            \n",
    "            #loss = nn.MSELoss(output, y_train[i])\n",
    "            loss.backward()\n",
    "            optimizer.step()\n",
    "        \n",
    "            loss_list.append(loss)\n",
    "    output=output.detach().numpy()\n",
    "    y_train=y_train.detach().numpy()\n",
    "    for i in range(len(output)):\n",
    "        if output[i]>=0.5:\n",
    "            output[i]=1\n",
    "        else:\n",
    "            output[i]=0\n",
    "            \n",
    "    accuracy = accuracy_score(output, y_train)\n",
    "    #print(loss_list)\n",
    "    return accuracy\n",
    "\n",
    "\n"
   ]
  },
  {
   "cell_type": "code",
   "execution_count": 57,
   "metadata": {
    "scrolled": false
   },
   "outputs": [
    {
     "name": "stdout",
     "output_type": "stream",
     "text": [
      "For epoch 100 we get training accuracy of 85.43543543543544\n"
     ]
    }
   ],
   "source": [
    "#Sanity check\n",
    "model=NNet()\n",
    "accuracy=train(model,embedding_train,100,0.1,y_train)\n",
    "print(\"For epoch 100 we get training accuracy of\",accuracy*100)\n",
    "\n"
   ]
  },
  {
   "cell_type": "code",
   "execution_count": 61,
   "metadata": {},
   "outputs": [
    {
     "name": "stdout",
     "output_type": "stream",
     "text": [
      "Test accuracy achieved 0.8568341437061048\n",
      "Validation accuracy achieved 0.8434547908232118\n"
     ]
    }
   ],
   "source": [
    "##Predicting accuracy on Neural Networks\n",
    "embedding_test= np.array(embedding_test)\n",
    "embedding_test=torch.from_numpy(embedding_test).double()\n",
    "y_pred=model.predict(embedding_test)\n",
    "accuracy = accuracy_score(y_pred, y_test)\n",
    "print(\"Test accuracy achieved\",accuracy)\n",
    "y_pred_val=model.predict(torch.from_numpy(np.array(embedding_val)))\n",
    "accuracy_val = accuracy_score(y_pred_val, y_val)\n",
    "print(\"Validation accuracy achieved\",accuracy_val)"
   ]
  },
  {
   "cell_type": "markdown",
   "metadata": {},
   "source": [
    "**Logistic Regression and hyper parameter tuning**"
   ]
  },
  {
   "cell_type": "markdown",
   "metadata": {},
   "source": [
    "Hyper Parameter tuning using grid search"
   ]
  },
  {
   "cell_type": "code",
   "execution_count": 133,
   "metadata": {
    "scrolled": true
   },
   "outputs": [
    {
     "name": "stdout",
     "output_type": "stream",
     "text": [
      "Best Penalty: l1\n",
      "Best C: 1.0\n"
     ]
    }
   ],
   "source": [
    "from sklearn.model_selection import GridSearchCV\n",
    "penalty = ['l1', 'l2']\n",
    "\n",
    "model=LogisticRegression()\n",
    "C = np.logspace(0, 4, 10)\n",
    "hyperparameters = dict(C=C, penalty=penalty)\n",
    "clf = GridSearchCV(model, hyperparameters, cv=5, verbose=0)\n",
    "\n",
    "\n",
    "best_model = clf.fit(embedding_train, y_train)\n",
    "\n",
    "print('Best Penalty:', best_model.best_estimator_.get_params()['penalty'])\n",
    "print('Best C:', best_model.best_estimator_.get_params()['C'])\n",
    "# Predict target vector\n"
   ]
  },
  {
   "cell_type": "code",
   "execution_count": 87,
   "metadata": {},
   "outputs": [
    {
     "name": "stdout",
     "output_type": "stream",
     "text": [
      "Best Accuracy 0.8738738738738738\n"
     ]
    }
   ],
   "source": [
    "print(\"Best Accuracy\",best_model.best_score_)"
   ]
  },
  {
   "cell_type": "code",
   "execution_count": 88,
   "metadata": {},
   "outputs": [
    {
     "name": "stdout",
     "output_type": "stream",
     "text": [
      "0.8741220961642355\n"
     ]
    }
   ],
   "source": [
    "y_pred=best_model.predict(embedding_test)\n",
    "accuracy = accuracy_score(y_pred, y_test)\n",
    "print(accuracy)"
   ]
  },
  {
   "cell_type": "markdown",
   "metadata": {},
   "source": [
    "**Cross domain Sentiment Analysis**"
   ]
  },
  {
   "cell_type": "markdown",
   "metadata": {},
   "source": [
    "Since our model (best_model) is already trained on apparel"
   ]
  },
  {
   "cell_type": "code",
   "execution_count": 214,
   "metadata": {},
   "outputs": [
    {
     "name": "stdout",
     "output_type": "stream",
     "text": [
      "93808\n"
     ]
    }
   ],
   "source": [
    "review_electronic=[]\n",
    "for root, dirs, filenames in os.walk('sorted_data/software'): \n",
    "    \n",
    "    #print(filenames)\n",
    "    for f in filenames:\n",
    "        if f == \"all.review\":\n",
    "            with open(os.path.join(root, f), 'r',encoding=\"Latin1\") as file: \n",
    "                #print(file)\n",
    "                reviews = file.readlines()\n",
    "            #print(reviews)\n",
    "                review_electronic.extend(reviews)\n",
    "print(len(review_electronic))            "
   ]
  },
  {
   "cell_type": "code",
   "execution_count": 215,
   "metadata": {},
   "outputs": [
    {
     "name": "stdout",
     "output_type": "stream",
     "text": [
      "       rating review_text\n",
      "count    2390        2390\n",
      "unique      4        2055\n",
      "top       5.0            \n",
      "freq      946           7\n"
     ]
    }
   ],
   "source": [
    "electronics_dict=Convert2Dict(review_electronic)\n",
    "Electronics_reviewsDF=Convert2DF(electronics_dict)\n",
    "print(Electronics_reviewsDF.describe())"
   ]
  },
  {
   "cell_type": "code",
   "execution_count": 216,
   "metadata": {},
   "outputs": [
    {
     "data": {
      "text/html": [
       "<div>\n",
       "<style scoped>\n",
       "    .dataframe tbody tr th:only-of-type {\n",
       "        vertical-align: middle;\n",
       "    }\n",
       "\n",
       "    .dataframe tbody tr th {\n",
       "        vertical-align: top;\n",
       "    }\n",
       "\n",
       "    .dataframe thead th {\n",
       "        text-align: right;\n",
       "    }\n",
       "</style>\n",
       "<table border=\"1\" class=\"dataframe\">\n",
       "  <thead>\n",
       "    <tr style=\"text-align: right;\">\n",
       "      <th></th>\n",
       "      <th>rating</th>\n",
       "      <th>review_text</th>\n",
       "      <th>label</th>\n",
       "    </tr>\n",
       "  </thead>\n",
       "  <tbody>\n",
       "    <tr>\n",
       "      <th>review1</th>\n",
       "      <td>2.0</td>\n",
       "      <td>The Easy Language 16 is only useful if you're ...</td>\n",
       "      <td>0</td>\n",
       "    </tr>\n",
       "    <tr>\n",
       "      <th>review2</th>\n",
       "      <td>1.0</td>\n",
       "      <td>My boss asked me to get this, so that he check...</td>\n",
       "      <td>0</td>\n",
       "    </tr>\n",
       "    <tr>\n",
       "      <th>review3</th>\n",
       "      <td>1.0</td>\n",
       "      <td>I found this title messing around adding thing...</td>\n",
       "      <td>0</td>\n",
       "    </tr>\n",
       "    <tr>\n",
       "      <th>review4</th>\n",
       "      <td>1.0</td>\n",
       "      <td>They have the hebrew backwards!! You are suppo...</td>\n",
       "      <td>0</td>\n",
       "    </tr>\n",
       "    <tr>\n",
       "      <th>review5</th>\n",
       "      <td>2.0</td>\n",
       "      <td>I just bought and installed this CD with the h...</td>\n",
       "      <td>0</td>\n",
       "    </tr>\n",
       "  </tbody>\n",
       "</table>\n",
       "</div>"
      ],
      "text/plain": [
       "        rating                                        review_text  label\n",
       "review1    2.0  The Easy Language 16 is only useful if you're ...      0\n",
       "review2    1.0  My boss asked me to get this, so that he check...      0\n",
       "review3    1.0  I found this title messing around adding thing...      0\n",
       "review4    1.0  They have the hebrew backwards!! You are suppo...      0\n",
       "review5    2.0  I just bought and installed this CD with the h...      0"
      ]
     },
     "execution_count": 216,
     "metadata": {},
     "output_type": "execute_result"
    }
   ],
   "source": [
    "#Adding Label Column and removing data with rating 3\n",
    "Electronics_reviewsDF['label'] = [0 if float(x)<3  else 1 for x in Electronics_reviewsDF['rating']] \n",
    "Electronics_reviewsDF= Electronics_reviewsDF[pd.to_numeric(Electronics_reviewsDF.rating) != 3.0]\n",
    "#All_reviewsDF.drop(All_reviewsDF[All_reviewsDF['rating']=3],inplace=True)\n",
    "Electronics_reviewsDF.head()\n"
   ]
  },
  {
   "cell_type": "code",
   "execution_count": 217,
   "metadata": {},
   "outputs": [
    {
     "data": {
      "text/html": [
       "<div>\n",
       "<style scoped>\n",
       "    .dataframe tbody tr th:only-of-type {\n",
       "        vertical-align: middle;\n",
       "    }\n",
       "\n",
       "    .dataframe tbody tr th {\n",
       "        vertical-align: top;\n",
       "    }\n",
       "\n",
       "    .dataframe thead th {\n",
       "        text-align: right;\n",
       "    }\n",
       "</style>\n",
       "<table border=\"1\" class=\"dataframe\">\n",
       "  <thead>\n",
       "    <tr style=\"text-align: right;\">\n",
       "      <th></th>\n",
       "      <th>rating</th>\n",
       "      <th>review_text</th>\n",
       "      <th>label</th>\n",
       "    </tr>\n",
       "  </thead>\n",
       "  <tbody>\n",
       "    <tr>\n",
       "      <th>review1</th>\n",
       "      <td>2.0</td>\n",
       "      <td>The Easy Language 16 is only useful if youre a...</td>\n",
       "      <td>0</td>\n",
       "    </tr>\n",
       "    <tr>\n",
       "      <th>review2</th>\n",
       "      <td>1.0</td>\n",
       "      <td>My boss asked me to get this so that he check ...</td>\n",
       "      <td>0</td>\n",
       "    </tr>\n",
       "    <tr>\n",
       "      <th>review3</th>\n",
       "      <td>1.0</td>\n",
       "      <td>I found this title messing around adding thing...</td>\n",
       "      <td>0</td>\n",
       "    </tr>\n",
       "    <tr>\n",
       "      <th>review4</th>\n",
       "      <td>1.0</td>\n",
       "      <td>They have the hebrew backwards You are suppose...</td>\n",
       "      <td>0</td>\n",
       "    </tr>\n",
       "    <tr>\n",
       "      <th>review5</th>\n",
       "      <td>2.0</td>\n",
       "      <td>I just bought and installed this CD with the h...</td>\n",
       "      <td>0</td>\n",
       "    </tr>\n",
       "  </tbody>\n",
       "</table>\n",
       "</div>"
      ],
      "text/plain": [
       "        rating                                        review_text  label\n",
       "review1    2.0  The Easy Language 16 is only useful if youre a...      0\n",
       "review2    1.0  My boss asked me to get this so that he check ...      0\n",
       "review3    1.0  I found this title messing around adding thing...      0\n",
       "review4    1.0  They have the hebrew backwards You are suppose...      0\n",
       "review5    2.0  I just bought and installed this CD with the h...      0"
      ]
     },
     "execution_count": 217,
     "metadata": {},
     "output_type": "execute_result"
    }
   ],
   "source": [
    "Electronics_reviewsDF=Remove_punct(Electronics_reviewsDF)\n",
    "Electronics_reviewsDF.head()"
   ]
  },
  {
   "cell_type": "code",
   "execution_count": 218,
   "metadata": {},
   "outputs": [],
   "source": [
    "\n",
    "elect_all_features=[]\n",
    "\n",
    "for i in range(len(Electronics_reviewsDF)):\n",
    "    review=(Electronics_reviewsDF.iloc[i]['review_text']+'\\n') \n",
    "    review_token=word_tokenize(review)\n",
    "    elect_all_features.append(review_token)\n",
    "\n",
    "y_elect=np.array(Electronics_reviewsDF['label'])\n",
    "\n",
    "\n"
   ]
  },
  {
   "cell_type": "code",
   "execution_count": 219,
   "metadata": {},
   "outputs": [],
   "source": [
    "embedding_elect=[]\n",
    "for i in range(len(elect_all_features)):\n",
    "    sentence_embed=np.zeros(100)\n",
    "    for j in range(len(elect_all_features[i])):  \n",
    "        try:\n",
    "            sentence_embed+=(embedding_model[elect_all_features[i][j]])\n",
    "            \n",
    "            \n",
    "        except KeyError:\n",
    "            sentence_embed+=np.zeros(100)\n",
    "    #sentence_embed/= len(training_features[i])    \n",
    "    #print(len(sentence_embed))\n",
    "    #break\n",
    "    embedding_elect.append(sentence_embed)\n"
   ]
  },
  {
   "cell_type": "code",
   "execution_count": 220,
   "metadata": {},
   "outputs": [
    {
     "data": {
      "text/plain": [
       "array([-1.15516045e+01,  9.72924771e+00,  1.30148388e+01, -2.79640004e+01,\n",
       "       -3.18208283e+01, -5.66546929e+01, -1.55762292e+01, -2.33851654e+01,\n",
       "       -3.16106676e+01, -2.33302554e+00,  1.17891825e+01, -2.73422148e+01,\n",
       "       -1.39257873e+01, -1.40589091e+01, -1.84654624e+01, -4.47790979e+00,\n",
       "       -1.08420771e+01, -5.69993739e+00,  9.36300403e+00,  3.44560754e+00,\n",
       "        7.49086894e+01, -2.85224964e+01,  9.88193194e+00,  5.61779266e+00,\n",
       "        2.62483850e+01, -2.30552706e+01,  3.71579727e+00, -2.35465647e+01,\n",
       "       -4.31140380e+01, -4.34263754e+01,  4.95473301e+01, -3.06767776e+01,\n",
       "       -8.93681878e+00, -2.62144940e+00,  3.04256275e+01, -4.91752891e+01,\n",
       "       -1.27758844e+01, -3.11627082e+01,  7.79701384e-01, -2.71279769e+01,\n",
       "        1.47654702e+00, -4.25512208e+01, -5.87488334e+00,  5.83242627e+01,\n",
       "       -6.74361953e-01,  1.60731794e+01, -5.18799790e+01,  9.84385023e+00,\n",
       "        5.34251183e+01, -1.22532966e+01, -5.91434762e+00, -1.92770889e+01,\n",
       "       -1.39459981e+01,  1.19442309e+01,  2.33685766e+01,  5.10356587e+01,\n",
       "        3.66000877e+01,  4.98378660e+00, -3.71865757e+01,  5.75965294e+01,\n",
       "       -5.71226824e+01,  2.66118259e+00,  1.88315636e+01, -2.10232137e+01,\n",
       "        3.14042422e+00,  5.27688504e+01, -9.22871532e+00, -6.06419646e+00,\n",
       "       -1.69672285e+01,  5.15125981e+01, -2.20305528e+01,  1.15916557e+01,\n",
       "        1.50023964e+01,  3.19442923e+01, -4.20833709e+00,  2.01984243e+01,\n",
       "       -7.19019039e+00,  6.90667097e+00,  5.63377068e+01,  5.13481061e+01,\n",
       "       -4.54244334e-02,  1.11062106e+00, -1.66227362e+01,  3.39508895e+01,\n",
       "       -2.49313122e+01,  2.32832618e+00, -2.97186808e+01,  3.13651143e+01,\n",
       "        1.53712266e+01, -8.81123405e+00, -3.58758723e+01,  5.92284978e+01,\n",
       "        2.32217255e+01,  9.17976226e+00,  5.43381211e+01, -6.67872188e+01,\n",
       "       -3.68646422e+01, -4.07328600e+01, -1.69301524e+01,  3.89753417e+01])"
      ]
     },
     "execution_count": 220,
     "metadata": {},
     "output_type": "execute_result"
    }
   ],
   "source": [
    "embedding_elect[0]"
   ]
  },
  {
   "cell_type": "code",
   "execution_count": 221,
   "metadata": {},
   "outputs": [
    {
     "name": "stdout",
     "output_type": "stream",
     "text": [
      "0.6661087866108787\n"
     ]
    }
   ],
   "source": [
    "# Predicting accuracy of Electronics dataset with model trained on apparel dataset\n",
    "y_pred_elect=best_model.predict(embedding_elect)\n",
    "accuracy = accuracy_score(y_pred_elect, y_elect)\n",
    "print(accuracy)"
   ]
  },
  {
   "cell_type": "code",
   "execution_count": 224,
   "metadata": {},
   "outputs": [
    {
     "data": {
      "text/plain": [
       "array([ 0.5497685 , -0.5294993 ,  0.8387564 , -2.4905634 , -1.8044223 ,\n",
       "       -1.4215271 , -1.580634  , -1.1401933 ,  0.5886975 , -1.7303919 ,\n",
       "        1.1567503 ,  0.9216216 , -0.18483867, -0.14392003, -1.7880529 ,\n",
       "        2.4812703 ,  0.6502478 , -1.1256831 , -2.4194412 ,  1.397954  ,\n",
       "        0.35781333,  0.49746418,  1.5225716 , -0.6114283 ,  0.4513157 ,\n",
       "        0.99059147,  0.44323117,  0.6643514 , -0.11040936,  1.6614512 ,\n",
       "       -0.2500513 , -0.4827413 , -2.6216667 , -0.14780532,  0.1430922 ,\n",
       "       -0.69342554, -1.6852834 ,  1.0008271 , -0.6301994 ,  0.52214384,\n",
       "        3.8148146 ,  1.1863334 ,  0.4283529 ,  0.9271137 , -1.3146844 ,\n",
       "       -0.07443464,  0.65257156, -0.47543976, -1.9024488 , -2.0236619 ,\n",
       "        0.36670175,  0.23219962, -2.8791354 , -0.45275956,  3.1515045 ,\n",
       "        0.15752256, -0.7299687 ,  0.301375  ,  0.34666047, -0.10076039,\n",
       "       -1.6757814 , -1.6883842 ,  1.4153656 , -0.73823905,  0.35463142,\n",
       "       -0.48052135, -1.6307536 , -2.501925  , -0.05882717, -1.9855103 ,\n",
       "       -0.48583752, -0.00746351, -1.155864  ,  0.45032963, -0.8748961 ,\n",
       "        1.0633225 , -1.463661  , -0.51832384, -1.4317101 ,  0.69238865,\n",
       "       -1.2278539 ,  0.00831958, -2.304742  ,  0.03254711,  1.6821967 ,\n",
       "        0.4721633 , -1.0111306 ,  0.52596885,  1.8397188 , -0.39831847,\n",
       "       -0.7435782 ,  0.3068844 ,  1.3497412 , -0.31092814,  0.2512239 ,\n",
       "       -1.0322497 , -0.4801797 ,  0.94757575,  1.0991148 , -0.85262644],\n",
       "      dtype=float32)"
      ]
     },
     "execution_count": 224,
     "metadata": {},
     "output_type": "execute_result"
    }
   ],
   "source": [
    "embedding_model['great']"
   ]
  },
  {
   "cell_type": "code",
   "execution_count": 225,
   "metadata": {},
   "outputs": [
    {
     "data": {
      "text/plain": [
       "array([ 0.28334528, -0.6276286 ,  0.76382893, -3.6113136 , -1.4474573 ,\n",
       "        0.35960224, -1.9241658 , -0.9326837 , -0.5032284 ,  1.1272113 ,\n",
       "        0.5667986 ,  1.890621  ,  0.6719114 ,  0.16712682, -1.4556774 ,\n",
       "        0.69471985,  0.22749427,  0.03120996, -2.2587857 , -0.55798566,\n",
       "        0.4833568 ,  0.8939631 ,  0.23178181, -0.5641131 ,  0.295867  ,\n",
       "        1.7794629 , -0.3563487 ,  0.55849177, -0.5982723 , -0.7573021 ,\n",
       "        0.9126217 , -0.8398385 , -3.0302527 , -0.9938609 ,  0.7319837 ,\n",
       "       -2.3686566 , -1.5260478 ,  0.33950713, -1.1217943 ,  0.7412025 ,\n",
       "        2.6999373 , -0.34824288,  1.5824373 ,  1.2223248 , -1.4833747 ,\n",
       "        0.05283989,  0.368774  ,  0.10886303, -2.15552   , -1.5819077 ,\n",
       "       -1.1741098 ,  0.73239577, -1.9196717 ,  0.03832009,  2.7097623 ,\n",
       "        0.31660965, -1.3187572 ,  0.9241434 , -1.7346336 ,  0.72552115,\n",
       "       -3.0750635 , -1.1778128 ,  0.43651342, -2.5453472 ,  1.9010719 ,\n",
       "        0.38258752, -1.904722  , -2.2666934 ,  0.14730553, -0.96860886,\n",
       "       -0.21131286, -0.5355084 , -2.4669871 ,  0.85560006, -0.5585432 ,\n",
       "        0.40252128, -1.3286973 , -0.3329287 , -1.5440509 ,  0.73553187,\n",
       "       -2.4228854 ,  1.1072131 , -1.6213322 , -0.3839412 ,  1.8940445 ,\n",
       "        0.4337274 , -0.7387049 , -0.20315655,  0.81722784, -0.79293805,\n",
       "       -1.9044644 ,  0.79061365,  2.626326  ,  0.01498698,  0.70517915,\n",
       "       -2.270888  , -0.43710765,  0.2349773 ,  0.4937937 , -0.71467525],\n",
       "      dtype=float32)"
      ]
     },
     "execution_count": 225,
     "metadata": {},
     "output_type": "execute_result"
    }
   ],
   "source": [
    "embedding_model['good']"
   ]
  },
  {
   "cell_type": "code",
   "execution_count": null,
   "metadata": {},
   "outputs": [],
   "source": []
  }
 ],
 "metadata": {
  "kernelspec": {
   "display_name": "Python 3",
   "language": "python",
   "name": "python3"
  },
  "language_info": {
   "codemirror_mode": {
    "name": "ipython",
    "version": 3
   },
   "file_extension": ".py",
   "mimetype": "text/x-python",
   "name": "python",
   "nbconvert_exporter": "python",
   "pygments_lexer": "ipython3",
   "version": "3.7.3"
  }
 },
 "nbformat": 4,
 "nbformat_minor": 2
}
